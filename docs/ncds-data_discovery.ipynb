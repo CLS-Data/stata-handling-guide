{
 "cells": [
  {
   "cell_type": "code",
   "execution_count": null,
   "id": "ae27e004",
   "metadata": {},
   "outputs": [],
   "source": []
  }
 ],
 "metadata": {
  "language_info": {
   "name": "plaintext"
  }
 },
 "nbformat": 4,
 "nbformat_minor": 5
}
